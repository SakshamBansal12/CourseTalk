{
  "nbformat": 4,
  "nbformat_minor": 0,
  "metadata": {
    "colab": {
      "name": "WindowSizes_LSTM_LOSO.ipynb",
      "provenance": [],
      "authorship_tag": "ABX9TyM+aLqgO3Rx2doPwf2vCoHE",
      "include_colab_link": true
    },
    "kernelspec": {
      "name": "python3",
      "display_name": "Python 3"
    },
    "language_info": {
      "name": "python"
    }
  },
  "cells": [
    {
      "cell_type": "markdown",
      "metadata": {
        "id": "view-in-github",
        "colab_type": "text"
      },
      "source": [
        "<a href=\"https://colab.research.google.com/github/SakshamBansal12/CourseTalk/blob/main/WindowSizes_LSTM_LOSO.ipynb\" target=\"_parent\"><img src=\"https://colab.research.google.com/assets/colab-badge.svg\" alt=\"Open In Colab\"/></a>"
      ]
    },
    {
      "cell_type": "code",
      "source": [
        "import matplotlib.pyplot as plt"
      ],
      "metadata": {
        "id": "-yvI8tDPiXgl"
      },
      "execution_count": null,
      "outputs": []
    },
    {
      "cell_type": "code",
      "source": [
        "Tstep=2\n",
        "0.8449843445832429\n",
        "https://colab.research.google.com/drive/15gHLv9mawpZBZSR4bP00zRwTx5uv5pdF?usp=sharing"
      ],
      "metadata": {
        "colab": {
          "base_uri": "https://localhost:8080/"
        },
        "id": "7ePL2eiSqqVL",
        "outputId": "2ffba80e-d677-4f3f-cbe6-ea0d17cb5287"
      },
      "execution_count": null,
      "outputs": [
        {
          "output_type": "execute_result",
          "data": {
            "text/plain": [
              "0.8449843445832429"
            ]
          },
          "metadata": {},
          "execution_count": 11
        }
      ]
    },
    {
      "cell_type": "code",
      "source": [
        "Tstep=3\n",
        "0.8592750312385307\n",
        "https://colab.research.google.com/drive/1v9EoLGksz9RbpocN7YktuCQOn4iT2V4l?usp=sharing"
      ],
      "metadata": {
        "colab": {
          "base_uri": "https://localhost:8080/"
        },
        "id": "Yntzk4ssC1L5",
        "outputId": "1dc84938-3303-4de5-bbaf-ef77e5583892"
      },
      "execution_count": null,
      "outputs": [
        {
          "output_type": "execute_result",
          "data": {
            "text/plain": [
              "0.8592750312385307"
            ]
          },
          "metadata": {},
          "execution_count": 12
        }
      ]
    },
    {
      "cell_type": "code",
      "source": [
        "Tstep=4\n",
        "0.8732527359919801\n",
        "https://colab.research.google.com/drive/1cGUO4m-CRtzJ859lhdxm2IMwofiLfcoZ?usp=sharing"
      ],
      "metadata": {
        "colab": {
          "base_uri": "https://localhost:8080/"
        },
        "id": "hfklRuj7C1Pn",
        "outputId": "1a88c753-ac37-49b0-8bdc-28c1fec12c13"
      },
      "execution_count": null,
      "outputs": [
        {
          "output_type": "execute_result",
          "data": {
            "text/plain": [
              "0.8732527359919801"
            ]
          },
          "metadata": {},
          "execution_count": 13
        }
      ]
    },
    {
      "cell_type": "code",
      "execution_count": null,
      "metadata": {
        "colab": {
          "base_uri": "https://localhost:8080/"
        },
        "id": "oq7RTsRyCysW",
        "outputId": "9330aebb-4c63-48c4-9fb0-e34cccbc6dfd"
      },
      "outputs": [
        {
          "output_type": "execute_result",
          "data": {
            "text/plain": [
              "0.8869299132274698"
            ]
          },
          "metadata": {},
          "execution_count": 14
        }
      ],
      "source": [
        "Tstep=5\n",
        "\n",
        "0.8869299132274698\n",
        "https://colab.research.google.com/drive/1yx5EihezTC0T9xarfCTyY2ocQq3CeSQz?usp=sharing"
      ]
    },
    {
      "cell_type": "code",
      "source": [
        "Tstep=6\n",
        "0.9006140676243122\n",
        "https://colab.research.google.com/drive/12YjikhAxgGsJdzjnJgrB8eU4QjMEjo8N?usp=sharing"
      ],
      "metadata": {
        "colab": {
          "base_uri": "https://localhost:8080/"
        },
        "id": "QXuITmfGC04V",
        "outputId": "dae7f3cb-2215-4570-ff5d-463511fec9cd"
      },
      "execution_count": null,
      "outputs": [
        {
          "output_type": "execute_result",
          "data": {
            "text/plain": [
              "0.9006140676243122"
            ]
          },
          "metadata": {},
          "execution_count": 15
        }
      ]
    },
    {
      "cell_type": "code",
      "source": [
        "Tstep=7\n",
        "0.9124602314751308\n",
        "https://colab.research.google.com/drive/1YqRQA10ZbWzeEWQNKyzdJ_KXd68OYQpd?usp=sharing"
      ],
      "metadata": {
        "colab": {
          "base_uri": "https://localhost:8080/"
        },
        "id": "BZaElO6PC1BJ",
        "outputId": "4095cc8d-a6ca-441b-88ef-0fb13303a676"
      },
      "execution_count": null,
      "outputs": [
        {
          "output_type": "execute_result",
          "data": {
            "text/plain": [
              "0.9124602314751308"
            ]
          },
          "metadata": {},
          "execution_count": 16
        }
      ]
    },
    {
      "cell_type": "code",
      "source": [
        "Tstep=8\n",
        "\n",
        "0.9222575525428557\n",
        "https://colab.research.google.com/drive/1bbKmMVRwYsEgjfcMEfgSe7uzIsJTNx8a?usp=sharing"
      ],
      "metadata": {
        "colab": {
          "base_uri": "https://localhost:8080/"
        },
        "id": "bB0Bad0BC1IX",
        "outputId": "84a88ef1-89a0-4956-cf38-108205353b25"
      },
      "execution_count": null,
      "outputs": [
        {
          "output_type": "execute_result",
          "data": {
            "text/plain": [
              "0.9222575525428557"
            ]
          },
          "metadata": {},
          "execution_count": 17
        }
      ]
    },
    {
      "cell_type": "code",
      "source": [
        "fscores=[0.8449843445832429,0.8592750312385307,0.8732527359919801,0.8869299132274698,0.9006140676243122,0.9124602314751308,0.9222575525428557]"
      ],
      "metadata": {
        "id": "nlhPNISahz19"
      },
      "execution_count": null,
      "outputs": []
    },
    {
      "cell_type": "code",
      "source": [
        "x = range(2,9)\n",
        "plt.scatter(x,fscores)\n",
        "plt.plot(x, fscores)\n",
        "plt.ylabel(\"Fscores\")\n",
        "plt.xlabel(\"Window size\")\n",
        "plt.title(\"Window Sizes against Fscores\")\n",
        "plt.show()"
      ],
      "metadata": {
        "colab": {
          "base_uri": "https://localhost:8080/",
          "height": 312
        },
        "id": "w1YFO5_PhsUD",
        "outputId": "fb11a88a-4f7e-469d-cf1e-71ea10d293de"
      },
      "execution_count": null,
      "outputs": [
        {
          "output_type": "stream",
          "name": "stderr",
          "text": [
            "No handles with labels found to put in legend.\n"
          ]
        },
        {
          "output_type": "display_data",
          "data": {
            "text/plain": [
              "<Figure size 432x288 with 1 Axes>"
            ],
            "image/png": "[encoded data removed]"
          },
          "metadata": {
            "needs_background": "light"
          }
        }
      ]
    },
    {
      "cell_type": "code",
      "source": [
        ""
      ],
      "metadata": {
        "id": "p98hQrE8kpA1"
      },
      "execution_count": null,
      "outputs": []
    }
  ]
}